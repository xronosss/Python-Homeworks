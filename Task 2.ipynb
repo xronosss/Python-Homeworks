{
 "cells": [
  {
   "cell_type": "code",
   "execution_count": 52,
   "id": "planned-teens",
   "metadata": {},
   "outputs": [],
   "source": [
    "from sklearn import datasets\n",
    "import numpy as np\n",
    "import matplotlib.pyplot as plt"
   ]
  },
  {
   "cell_type": "code",
   "execution_count": 27,
   "id": "strange-festival",
   "metadata": {},
   "outputs": [
    {
     "data": {
      "image/png": "[encoded data removed]",
      "text/plain": [
       "<Figure size 1008x504 with 1 Axes>"
      ]
     },
     "metadata": {
      "needs_background": "light"
     },
     "output_type": "display_data"
    }
   ],
   "source": [
    "# Задание 1\n",
    "# Дополните график выше линиями стандартных отклонений с обеих сторон\n",
    "# от линий средних значений. Подсказка: для вычисления стандартного\n",
    "# отклонения в numpy есть отдельная функция.\n",
    "\n",
    "iris = datasets.load_iris()\n",
    "X = iris.data                     # признаки ирисов\n",
    "y = iris.target                   # типы ирисов\n",
    "X_0 = X[y == 0]                   # ирисы класса 0\n",
    "X_0_mean = np.mean(X_0, axis=0)   # среднее значение\n",
    "X_0_std = np.std(X_0, axis=0)     # стандартное отклонение от среднего\n",
    "X_0_01 = X_0[:, :2]               # первые 2 признака\n",
    "plt.rcParams['figure.figsize'] = (14, 7)\n",
    "plt.scatter(X_0_01[:, 0], X_0_01[:, 1], color = 'b')\n",
    "plt.axvline(X_0_mean[0], color = 'r')\n",
    "plt.axhline(X_0_mean[1], color = 'r')\n",
    "plt.axvline(X_0_mean[0] - X_0_std[0]) # нижняя граница стандартного отклонения по y\n",
    "plt.axvline(X_0_mean[0] + X_0_std[0]) # верхняя граница стандартного отклонения по y\n",
    "plt.axhline(X_0_mean[1] - X_0_std[1]) # левая граница стандартного отклонения по x\n",
    "plt.axhline(X_0_mean[1] + X_0_std[1]) # правая граница стандартного отклонения по x\n",
    "plt.ylabel('Значение признака 0')\n",
    "plt.xlabel('Значение признака 1')\n",
    "plt.show()"
   ]
  },
  {
   "cell_type": "code",
   "execution_count": 28,
   "id": "individual-person",
   "metadata": {},
   "outputs": [
    {
     "name": "stdout",
     "output_type": "stream",
     "text": [
      "Значения четвертого признака третьего класса: \n",
      "[2.5 1.9 2.1 1.8 2.2 2.1 1.7 1.8 1.8 2.5 2.  1.9 2.1 2.  2.4 2.3 1.8 2.2\n",
      " 2.3 1.5 2.3 2.  2.  1.8 2.1 1.8 1.8 1.8 2.1 1.6 1.9 2.  2.2 1.5 1.4 2.3\n",
      " 2.4 1.8 1.8 2.1 2.4 2.3 1.9 2.3 2.5 2.3 1.9 2.  2.3 1.8]\n",
      "\n",
      "Среднее значение признака: \n",
      "2.0260000000000002\n",
      "\n",
      "Медиана признака: \n",
      "2.0\n"
     ]
    },
    {
     "data": {
      "image/png": "[encoded data removed]",
      "text/plain": [
       "<Figure size 1008x504 with 1 Axes>"
      ]
     },
     "metadata": {
      "needs_background": "light"
     },
     "output_type": "display_data"
    }
   ],
   "source": [
    "# Задание 2\n",
    "# Постройте диаграмму распределения (не разброса) значений четвертого признака (столбца)\n",
    "# с 12 карманами/бинами для третьего класса (сорта ирисов). \n",
    "#Нанесите на нее линии среднего и медианы разных цветов \n",
    "# (дополнительный аргумент функций axvline()/axhline()).\n",
    "\n",
    "X_2 = X[y == 2]                       # ирисы класса 2\n",
    "X_2_3 = X_2[:, 3:]                    # значения третьего стобца второго класса\n",
    "print('Значения четвертого признака третьего класса: \\n' + str(X_2_3[:, 0]) + '\\n')\n",
    "X_2_mean = np.mean(X_2_3, axis = 0)   # среднее значение\n",
    "print('Среднее значение признака: \\n' + str(X_2_mean[0]) + '\\n')\n",
    "X_2_median = np.median(X_2_3, axis = 0)\n",
    "print('Медиана признака: \\n' + str(X_2_median[0]))\n",
    "plt.hist(X_2_3[:, 0], density=True, bins=25)\n",
    "plt.ylabel('Количество попаданий в интервал')\n",
    "plt.xlabel('Значения интервалов')\n",
    "plt.title('Диаграмма распределения значений четвертого признака для третьего класса ирисов')\n",
    "plt.axvline(X_2_mean[0], color = 'r')  # среднее значение \n",
    "plt.axvline(X_2_median[0], color = 'g')  # медиана \n",
    "plt.grid()\n",
    "plt.show()"
   ]
  },
  {
   "cell_type": "code",
   "execution_count": 78,
   "id": "demanding-mattress",
   "metadata": {},
   "outputs": [
    {
     "name": "stdout",
     "output_type": "stream",
     "text": [
      "Отсортированный массив: \n",
      " [[1.  0. ]\n",
      " [1.1 0. ]\n",
      " [1.2 0. ]\n",
      " [1.2 0. ]\n",
      " [1.3 0. ]\n",
      " [1.3 0. ]\n",
      " [1.3 0. ]\n",
      " [1.3 0. ]\n",
      " [1.3 0. ]\n",
      " [1.3 0. ]\n",
      " [1.3 0. ]\n",
      " [1.4 0. ]\n",
      " [1.4 0. ]\n",
      " [1.4 0. ]\n",
      " [1.4 0. ]\n",
      " [1.4 0. ]\n",
      " [1.4 0. ]\n",
      " [1.4 0. ]\n",
      " [1.4 0. ]\n",
      " [1.4 0. ]\n",
      " [1.4 0. ]\n",
      " [1.4 0. ]\n",
      " [1.4 0. ]\n",
      " [1.4 0. ]\n",
      " [1.5 0. ]\n",
      " [1.5 0. ]\n",
      " [1.5 0. ]\n",
      " [1.5 0. ]\n",
      " [1.5 0. ]\n",
      " [1.5 0. ]\n",
      " [1.5 0. ]\n",
      " [1.5 0. ]\n",
      " [1.5 0. ]\n",
      " [1.5 0. ]\n",
      " [1.5 0. ]\n",
      " [1.5 0. ]\n",
      " [1.5 0. ]\n",
      " [1.6 0. ]\n",
      " [1.6 0. ]\n",
      " [1.6 0. ]\n",
      " [1.6 0. ]\n",
      " [1.6 0. ]\n",
      " [1.6 0. ]\n",
      " [1.6 0. ]\n",
      " [1.7 0. ]\n",
      " [1.7 0. ]\n",
      " [1.7 0. ]\n",
      " [1.7 0. ]\n",
      " [1.9 0. ]\n",
      " [1.9 0. ]\n",
      " [3.  1. ]\n",
      " [3.3 1. ]\n",
      " [3.3 1. ]\n",
      " [3.5 1. ]\n",
      " [3.5 1. ]\n",
      " [3.6 1. ]\n",
      " [3.7 1. ]\n",
      " [3.8 1. ]\n",
      " [3.9 1. ]\n",
      " [3.9 1. ]\n",
      " [3.9 1. ]\n",
      " [4.  1. ]\n",
      " [4.  1. ]\n",
      " [4.  1. ]\n",
      " [4.  1. ]\n",
      " [4.  1. ]\n",
      " [4.1 1. ]\n",
      " [4.1 1. ]\n",
      " [4.1 1. ]\n",
      " [4.2 1. ]\n",
      " [4.2 1. ]\n",
      " [4.2 1. ]\n",
      " [4.2 1. ]\n",
      " [4.3 1. ]\n",
      " [4.3 1. ]\n",
      " [4.4 1. ]\n",
      " [4.4 1. ]\n",
      " [4.4 1. ]\n",
      " [4.4 1. ]\n",
      " [4.5 1. ]\n",
      " [4.5 1. ]\n",
      " [4.5 1. ]\n",
      " [4.5 1. ]\n",
      " [4.5 1. ]\n",
      " [4.5 1. ]\n",
      " [4.5 1. ]\n",
      " [4.6 1. ]\n",
      " [4.6 1. ]\n",
      " [4.6 1. ]\n",
      " [4.7 1. ]\n",
      " [4.7 1. ]\n",
      " [4.7 1. ]\n",
      " [4.7 1. ]\n",
      " [4.7 1. ]\n",
      " [4.8 1. ]\n",
      " [4.8 1. ]\n",
      " [4.9 1. ]\n",
      " [4.9 1. ]\n",
      " [5.  1. ]\n",
      " [5.1 1. ]]\n"
     ]
    }
   ],
   "source": [
    "# Задание 3\n",
    "# Возьмите значения третьего признака (стобца) для классов 0 и 1.\n",
    "# Возьмите также часть вектора у с соответствующими метками.\n",
    "# Склейте эти два вектора так, чтобы было 2 столбца. \n",
    "# Назовем получившийся массив values. Чтобы сортировать по значению признака,\n",
    "# а метки оставались в соответствии с исходными значениями признака, вставьте далее следующий код\n",
    "# values = values[values[:, 0].argsort()] # вместо индекса использован результат\n",
    "# работы функции argsort(), примененной к 1 столбцу; этот результат представляет\n",
    "# собой индексы исходных элементов, переставленные в соответствии с порядком возрастания элементов\n",
    "# Теперь нужно посчитать суммы рангов (порядковых номеров строк) для каждого\n",
    "# из двух классов в массиве arr после сортировки и занести эти два значения в отдельные переменные.\n",
    "\n",
    "X_0_2 = X[y==0][:, 2:3][:,0]                       # класс 0 признак 2\n",
    "X_1_2 = X[y==1][:, 2:3][:,0]                       # класс 1 признак 2\n",
    "X_01_2 = np.concatenate((X_0_2, X_1_2), axis = 0)  # массив, объединяющий второй признак 0 и 1 класса\n",
    "y_01 = []                                          # массив с классами 0 и 1\n",
    "for i in y:\n",
    "    if i == 0 or i == 1:\n",
    "        y_01.append(i)\n",
    "values = np.array([[X_01_2[i], y_01[i]] for i in range(0, len(X_01_2))])\n",
    "values = values[values[:, 0].argsort()]\n",
    "print('Отсортированный массив: \\n {}'.format(values))"
   ]
  }
 ],
 "metadata": {
  "kernelspec": {
   "display_name": "Python 3",
   "language": "python",
   "name": "python3"
  },
  "language_info": {
   "codemirror_mode": {
    "name": "ipython",
    "version": 3
   },
   "file_extension": ".py",
   "mimetype": "text/x-python",
   "name": "python",
   "nbconvert_exporter": "python",
   "pygments_lexer": "ipython3",
   "version": "3.9.2"
  }
 },
 "nbformat": 4,
 "nbformat_minor": 5
}
